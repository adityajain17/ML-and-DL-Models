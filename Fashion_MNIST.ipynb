{
  "nbformat": 4,
  "nbformat_minor": 0,
  "metadata": {
    "colab": {
      "name": "Fashion MNIST.ipynb",
      "version": "0.3.2",
      "provenance": [],
      "include_colab_link": true
    },
    "kernelspec": {
      "name": "python3",
      "display_name": "Python 3"
    },
    "accelerator": "GPU"
  },
  "cells": [
    {
      "cell_type": "markdown",
      "metadata": {
        "id": "view-in-github",
        "colab_type": "text"
      },
      "source": [
        "<a href=\"https://colab.research.google.com/github/adityajain17/ML-and-DL-Models/blob/master/Fashion_MNIST.ipynb\" target=\"_parent\"><img src=\"https://colab.research.google.com/assets/colab-badge.svg\" alt=\"Open In Colab\"/></a>"
      ]
    },
    {
      "cell_type": "code",
      "metadata": {
        "id": "-nELh8eADK_5",
        "colab_type": "code",
        "colab": {}
      },
      "source": [
        "#Fashiom MNIST Dataset"
      ],
      "execution_count": 0,
      "outputs": []
    },
    {
      "cell_type": "code",
      "metadata": {
        "id": "9tBYeQKcSC93",
        "colab_type": "code",
        "colab": {
          "base_uri": "https://localhost:8080/",
          "height": 125
        },
        "outputId": "cea44b51-713d-4fc4-a4ef-4deff616dc85"
      },
      "source": [
        "from google.colab import drive\n",
        "drive.mount('/content/gdrive')"
      ],
      "execution_count": 46,
      "outputs": [
        {
          "output_type": "stream",
          "text": [
            "Go to this URL in a browser: https://accounts.google.com/o/oauth2/auth?client_id=947318989803-6bn6qk8qdgf4n4g3pfee6491hc0brc4i.apps.googleusercontent.com&redirect_uri=urn%3Aietf%3Awg%3Aoauth%3A2.0%3Aoob&scope=email%20https%3A%2F%2Fwww.googleapis.com%2Fauth%2Fdocs.test%20https%3A%2F%2Fwww.googleapis.com%2Fauth%2Fdrive%20https%3A%2F%2Fwww.googleapis.com%2Fauth%2Fdrive.photos.readonly%20https%3A%2F%2Fwww.googleapis.com%2Fauth%2Fpeopleapi.readonly&response_type=code\n",
            "\n",
            "Enter your authorization code:\n",
            "··········\n",
            "Mounted at /content/gdrive\n"
          ],
          "name": "stdout"
        }
      ]
    },
    {
      "cell_type": "code",
      "metadata": {
        "id": "Ip0WzIKQDLAS",
        "colab_type": "code",
        "colab": {}
      },
      "source": [
        "import keras\n",
        "import tensorflow as tf\n",
        "import numpy as np\n",
        "import pandas as pd\n",
        "import matplotlib.pyplot as plt"
      ],
      "execution_count": 0,
      "outputs": []
    },
    {
      "cell_type": "code",
      "metadata": {
        "id": "yTUNxZfnDLAc",
        "colab_type": "code",
        "colab": {}
      },
      "source": [
        "fashion_mnist = keras.datasets.fashion_mnist\n",
        "(X_train,y_train), (X_test,y_test) = fashion_mnist.load_data()"
      ],
      "execution_count": 0,
      "outputs": []
    },
    {
      "cell_type": "code",
      "metadata": {
        "id": "TilXg0W9DLAg",
        "colab_type": "code",
        "colab": {}
      },
      "source": [
        "class_names = ['T-shirt/top', 'Trouser', 'Pullover', 'Dress', 'Coat', \n",
        "               'Sandal', 'Shirt', 'Sneaker', 'Bag', 'Ankle boot']"
      ],
      "execution_count": 0,
      "outputs": []
    },
    {
      "cell_type": "code",
      "metadata": {
        "id": "dfrLb2o4DLAl",
        "colab_type": "code",
        "colab": {
          "base_uri": "https://localhost:8080/",
          "height": 286
        },
        "outputId": "2fd76b96-781a-40fe-d632-966db40a3dda"
      },
      "source": [
        "plt.imshow(X_train[1],cmap='gray')\n",
        "plt.colorbar()\n",
        "print(class_names[y_train[1]])"
      ],
      "execution_count": 21,
      "outputs": [
        {
          "output_type": "stream",
          "text": [
            "T-shirt/top\n"
          ],
          "name": "stdout"
        },
        {
          "output_type": "display_data",
          "data": {
            "image/png": "[encoded data removed]",
            "text/plain": [
              "<Figure size 432x288 with 2 Axes>"
            ]
          },
          "metadata": {
            "tags": []
          }
        }
      ]
    },
    {
      "cell_type": "code",
      "metadata": {
        "id": "9exIrjddDLAt",
        "colab_type": "code",
        "colab": {
          "base_uri": "https://localhost:8080/",
          "height": 34
        },
        "outputId": "a69be47f-0ffd-4cb1-f64c-8cab3b35a9ee"
      },
      "source": [
        "X_train.shape"
      ],
      "execution_count": 22,
      "outputs": [
        {
          "output_type": "execute_result",
          "data": {
            "text/plain": [
              "(60000, 28, 28)"
            ]
          },
          "metadata": {
            "tags": []
          },
          "execution_count": 22
        }
      ]
    },
    {
      "cell_type": "code",
      "metadata": {
        "id": "bWGZLtj-DLBD",
        "colab_type": "code",
        "colab": {
          "base_uri": "https://localhost:8080/",
          "height": 34
        },
        "outputId": "819ccc64-8576-4de4-e35d-5ab24da3d5f0"
      },
      "source": [
        "X_test.shape"
      ],
      "execution_count": 23,
      "outputs": [
        {
          "output_type": "execute_result",
          "data": {
            "text/plain": [
              "(10000, 28, 28)"
            ]
          },
          "metadata": {
            "tags": []
          },
          "execution_count": 23
        }
      ]
    },
    {
      "cell_type": "code",
      "metadata": {
        "id": "y-vR_YeZDLBV",
        "colab_type": "code",
        "colab": {
          "base_uri": "https://localhost:8080/",
          "height": 592
        },
        "outputId": "f59d3de2-691f-4c57-894b-18fa3729ea13"
      },
      "source": [
        "plt.figure(figsize=(10,10))\n",
        "for i in range(25):\n",
        "    plt.subplot(5,5,i+1)\n",
        "    plt.xticks([])\n",
        "    plt.yticks([])\n",
        "    plt.grid(False)\n",
        "    plt.imshow(X_train[i], cmap='gray')\n",
        "    plt.xlabel(class_names[y_train[i]])\n",
        "plt.show()"
      ],
      "execution_count": 24,
      "outputs": [
        {
          "output_type": "display_data",
          "data": {
            "image/png": "[encoded data removed]",
            "text/plain": [
              "<Figure size 720x720 with 25 Axes>"
            ]
          },
          "metadata": {
            "tags": []
          }
        }
      ]
    },
    {
      "cell_type": "code",
      "metadata": {
        "id": "c1mrGXElDLBd",
        "colab_type": "code",
        "colab": {}
      },
      "source": [
        "# Making sure that the values are float so that we can get decimal points after division\n",
        "X_train = X_train.astype('float32')\n",
        "X_test = X_test.astype('float32')\n",
        "#Pre-Process Images\n",
        "X_train=X_train/255.0\n",
        "X_test=X_test/255.0"
      ],
      "execution_count": 0,
      "outputs": []
    },
    {
      "cell_type": "code",
      "metadata": {
        "id": "i3jKHP2LDLBi",
        "colab_type": "code",
        "colab": {
          "base_uri": "https://localhost:8080/",
          "height": 34
        },
        "outputId": "1a9a1ebe-651b-4a42-fc42-a0cabd05bd37"
      },
      "source": [
        "X_train.shape"
      ],
      "execution_count": 26,
      "outputs": [
        {
          "output_type": "execute_result",
          "data": {
            "text/plain": [
              "(60000, 28, 28)"
            ]
          },
          "metadata": {
            "tags": []
          },
          "execution_count": 26
        }
      ]
    },
    {
      "cell_type": "code",
      "metadata": {
        "id": "QBPR4cS-DLBo",
        "colab_type": "code",
        "colab": {
          "base_uri": "https://localhost:8080/",
          "height": 34
        },
        "outputId": "e5890a72-f41b-4983-8e24-592312e62290"
      },
      "source": [
        "X_test.shape"
      ],
      "execution_count": 27,
      "outputs": [
        {
          "output_type": "execute_result",
          "data": {
            "text/plain": [
              "(10000, 28, 28)"
            ]
          },
          "metadata": {
            "tags": []
          },
          "execution_count": 27
        }
      ]
    },
    {
      "cell_type": "code",
      "metadata": {
        "id": "7U-_MVglDLCD",
        "colab_type": "code",
        "colab": {
          "base_uri": "https://localhost:8080/",
          "height": 286
        },
        "outputId": "2ba4af21-7ae2-4509-d854-241b436c69c9"
      },
      "source": [
        "plt.imshow(X_train[1].reshape(28,28),cmap='gray')\n",
        "plt.colorbar()\n",
        "print(class_names[y_train[1]])"
      ],
      "execution_count": 28,
      "outputs": [
        {
          "output_type": "stream",
          "text": [
            "T-shirt/top\n"
          ],
          "name": "stdout"
        },
        {
          "output_type": "display_data",
          "data": {
            "image/png": "[encoded data removed]",
            "text/plain": [
              "<Figure size 432x288 with 2 Axes>"
            ]
          },
          "metadata": {
            "tags": []
          }
        }
      ]
    },
    {
      "cell_type": "code",
      "metadata": {
        "id": "0NmghmAhDLCK",
        "colab_type": "code",
        "colab": {
          "base_uri": "https://localhost:8080/",
          "height": 282
        },
        "outputId": "0208626f-dacc-42dd-f577-11fad504de67"
      },
      "source": [
        "y_train_data=pd.DataFrame({'categories':y_train})\n",
        "y_train_data['categories'].value_counts().plot.bar()"
      ],
      "execution_count": 29,
      "outputs": [
        {
          "output_type": "execute_result",
          "data": {
            "text/plain": [
              "<matplotlib.axes._subplots.AxesSubplot at 0x7ff5b371bb38>"
            ]
          },
          "metadata": {
            "tags": []
          },
          "execution_count": 29
        },
        {
          "output_type": "display_data",
          "data": {
            "image/png": "[encoded data removed]",
            "text/plain": [
              "<Figure size 432x288 with 1 Axes>"
            ]
          },
          "metadata": {
            "tags": []
          }
        }
      ]
    },
    {
      "cell_type": "code",
      "metadata": {
        "id": "HkJ-2uncDLCU",
        "colab_type": "code",
        "colab": {
          "base_uri": "https://localhost:8080/",
          "height": 282
        },
        "outputId": "4ba66aad-f3c9-46c4-903e-789115f0a0a7"
      },
      "source": [
        "y_test_data=pd.DataFrame({'categories':y_train})\n",
        "y_test_data['categories'].value_counts().plot.bar()"
      ],
      "execution_count": 31,
      "outputs": [
        {
          "output_type": "execute_result",
          "data": {
            "text/plain": [
              "<matplotlib.axes._subplots.AxesSubplot at 0x7ff5b361c908>"
            ]
          },
          "metadata": {
            "tags": []
          },
          "execution_count": 31
        },
        {
          "output_type": "display_data",
          "data": {
            "image/png": "[encoded data removed]",
            "text/plain": [
              "<Figure size 432x288 with 1 Axes>"
            ]
          },
          "metadata": {
            "tags": []
          }
        }
      ]
    },
    {
      "cell_type": "markdown",
      "metadata": {
        "id": "HCvABMvaDLCc",
        "colab_type": "text"
      },
      "source": [
        "Deep Learning"
      ]
    },
    {
      "cell_type": "code",
      "metadata": {
        "id": "i0V0SdVJDLCf",
        "colab_type": "code",
        "colab": {}
      },
      "source": [
        "from keras.models import Sequential\n",
        "from keras.layers import Dense,Flatten,Dropout,BatchNormalization,Activation\n",
        "\n",
        "model= Sequential()\n",
        "model.add(Flatten(input_shape=(28,28)))\n",
        "\n",
        "model.add(Dense(256, kernel_initializer='uniform'))\n",
        "model.add(BatchNormalization())\n",
        "model.add(Activation('relu'))\n",
        "model.add(Dropout(0.2))\n",
        "\n",
        "model.add(Dense(256, kernel_initializer='uniform'))\n",
        "model.add(BatchNormalization())\n",
        "model.add(Activation('relu'))\n",
        "model.add(Dropout(0.2))\n",
        "\n",
        "model.add(Dense(128, kernel_initializer='uniform'))\n",
        "model.add(BatchNormalization())\n",
        "model.add(Activation('relu'))\n",
        "model.add(Dropout(0.2))\n",
        "\n",
        "model.add(Dense(output_dim = 10, kernel_initializer = 'uniform', activation = 'softmax'))\n",
        "model.compile(optimizer = 'adam', loss = 'sparse_categorical_crossentropy', metrics = ['accuracy'])\n",
        "model.fit(X_train, y_train, batch_size =32,nb_epoch = 40)"
      ],
      "execution_count": 0,
      "outputs": []
    },
    {
      "cell_type": "code",
      "metadata": {
        "id": "VrMOr2A9DLDD",
        "colab_type": "code",
        "colab": {}
      },
      "source": [
        "model.summary()"
      ],
      "execution_count": 0,
      "outputs": []
    },
    {
      "cell_type": "code",
      "metadata": {
        "id": "ja0M7nB2DLDJ",
        "colab_type": "code",
        "colab": {}
      },
      "source": [
        "y_pred = model.predict_classes(X_test)"
      ],
      "execution_count": 0,
      "outputs": []
    },
    {
      "cell_type": "code",
      "metadata": {
        "id": "XuvE8vjWDLDR",
        "colab_type": "code",
        "colab": {}
      },
      "source": [
        "model.save('Fashion MNIST 89.63% ANN.h5')"
      ],
      "execution_count": 0,
      "outputs": []
    },
    {
      "cell_type": "code",
      "metadata": {
        "id": "HggyfY2JDLDe",
        "colab_type": "code",
        "colab": {}
      },
      "source": [
        "# Making the Confusion Matrix\n",
        "from sklearn.metrics import confusion_matrix,accuracy_score\n",
        "cm = confusion_matrix(y_test, y_pred)\n",
        "print('Confusion Matrix',cm)\n",
        "print('Accuracy Score',accuracy_score(y_test, y_pred)*100)\n",
        "from sklearn.metrics import classification_report,f1_score\n",
        "print('Classification Report \\n',classification_report(y_test, y_pred))"
      ],
      "execution_count": 0,
      "outputs": []
    },
    {
      "cell_type": "code",
      "metadata": {
        "id": "iZmnxPPKDLD4",
        "colab_type": "code",
        "colab": {}
      },
      "source": [
        "test_loss, test_acc = model.evaluate(X_test,y_test)\n",
        "print('Test accuracy:', test_acc)"
      ],
      "execution_count": 0,
      "outputs": []
    },
    {
      "cell_type": "code",
      "metadata": {
        "id": "zvbMJJAXDLD9",
        "colab_type": "code",
        "colab": {}
      },
      "source": [
        "predictions = model.predict(X_test)"
      ],
      "execution_count": 0,
      "outputs": []
    },
    {
      "cell_type": "code",
      "metadata": {
        "id": "i94P4UTODLED",
        "colab_type": "code",
        "colab": {}
      },
      "source": [
        "def plot_image(i, predictions_array, true_label, img):\n",
        "  predictions_array, true_label, img = predictions_array[i], true_label[i], img[i]\n",
        "  plt.grid(False)\n",
        "  plt.xticks([])\n",
        "  plt.yticks([])\n",
        "  \n",
        "  plt.imshow(img, cmap=plt.cm.binary)\n",
        "\n",
        "  predicted_label = np.argmax(predictions_array)\n",
        "  if predicted_label == true_label:\n",
        "    color = 'blue'\n",
        "  else:\n",
        "    color = 'red'\n",
        "  \n",
        "  plt.xlabel(\"{} {:2.0f}% ({})\".format(class_names[predicted_label],\n",
        "                                100*np.max(predictions_array),\n",
        "                                class_names[true_label]),\n",
        "                                color=color)\n",
        "\n",
        "def plot_value_array(i, predictions_array, true_label):\n",
        "  predictions_array, true_label = predictions_array[i], true_label[i]\n",
        "  plt.grid(False)\n",
        "  plt.xticks([])\n",
        "  plt.yticks([])\n",
        "  thisplot = plt.bar(range(10), predictions_array, color=\"#777777\")\n",
        "  plt.ylim([0, 1]) \n",
        "  predicted_label = np.argmax(predictions_array)\n",
        " \n",
        "  thisplot[predicted_label].set_color('red')\n",
        "  thisplot[true_label].set_color('blue')"
      ],
      "execution_count": 0,
      "outputs": []
    },
    {
      "cell_type": "code",
      "metadata": {
        "id": "SMYEA1tSDLEM",
        "colab_type": "code",
        "colab": {}
      },
      "source": [
        "num_rows = 5\n",
        "num_cols = 3\n",
        "num_images = num_rows*num_cols\n",
        "plt.figure(figsize=(2*2*num_cols, 2*num_rows))\n",
        "for i in range(num_images):\n",
        "  plt.subplot(num_rows, 2*num_cols, 2*i+1)\n",
        "  plot_image(i, predictions, y_test, X_test)\n",
        "  plt.subplot(num_rows, 2*num_cols, 2*i+2)\n",
        "  plot_value_array(i, predictions, y_test)\n",
        "plt.show()"
      ],
      "execution_count": 0,
      "outputs": []
    },
    {
      "cell_type": "code",
      "metadata": {
        "id": "qHSJDgW9DLEQ",
        "colab_type": "code",
        "colab": {}
      },
      "source": [
        "#Pre-Processing required for CNN\n",
        "X_train = X_train.reshape(X_train.shape[0], 28, 28, 1)\n",
        "X_test = X_test.reshape(X_test.shape[0], 28, 28, 1)"
      ],
      "execution_count": 0,
      "outputs": []
    },
    {
      "cell_type": "code",
      "metadata": {
        "id": "b4w-H0ISDLEU",
        "colab_type": "code",
        "colab": {
          "base_uri": "https://localhost:8080/",
          "height": 34
        },
        "outputId": "17a5ab72-d421-4746-ef64-8698222996c8"
      },
      "source": [
        "X_train.shape"
      ],
      "execution_count": 36,
      "outputs": [
        {
          "output_type": "execute_result",
          "data": {
            "text/plain": [
              "(60000, 28, 28, 1)"
            ]
          },
          "metadata": {
            "tags": []
          },
          "execution_count": 36
        }
      ]
    },
    {
      "cell_type": "code",
      "metadata": {
        "id": "PVT5uhmRDLEe",
        "colab_type": "code",
        "colab": {
          "base_uri": "https://localhost:8080/",
          "height": 34
        },
        "outputId": "2f990885-a801-4f62-fb42-9251b715ed7b"
      },
      "source": [
        "X_test.shape"
      ],
      "execution_count": 35,
      "outputs": [
        {
          "output_type": "execute_result",
          "data": {
            "text/plain": [
              "(10000, 28, 28, 1)"
            ]
          },
          "metadata": {
            "tags": []
          },
          "execution_count": 35
        }
      ]
    },
    {
      "cell_type": "code",
      "metadata": {
        "id": "FM7H0UeGDLEj",
        "colab_type": "code",
        "colab": {}
      },
      "source": [
        "from keras.models import Sequential\n",
        "from keras.layers import Convolution2D\n",
        "from keras.layers import MaxPooling2D\n",
        "from keras.layers import Flatten\n",
        "from keras.layers import Dense,BatchNormalization,Dropout\n",
        "from keras.callbacks import EarlyStopping"
      ],
      "execution_count": 0,
      "outputs": []
    },
    {
      "cell_type": "code",
      "metadata": {
        "id": "_03QCKZnDLE5",
        "colab_type": "code",
        "colab": {}
      },
      "source": [
        "model = tf.keras.Sequential()\n",
        "model.add(tf.keras.layers.InputLayer(input_shape=(28, 28, 1)))\n",
        "model.add(tf.keras.layers.Conv2D(filters=32, kernel_size=(2, 2), padding='same', activation='relu', input_shape=(28, 28, 1)))\n",
        "model.add(tf.keras.layers.Conv2D(filters=64, kernel_size=(4, 4), padding='same', activation='relu'))\n",
        "model.add(tf.keras.layers.BatchNormalization())\n",
        "\n",
        "model.add(tf.keras.layers.Conv2D(filters=128, kernel_size=(6, 6), padding='same', activation='relu'))\n",
        "model.add(tf.keras.layers.MaxPooling2D(pool_size=2))\n",
        "model.add(tf.keras.layers.Dropout(0.3))\n",
        "\n",
        "model.add(tf.keras.layers.Conv2D(filters=64, kernel_size=(4, 4), padding='same', activation='relu'))\n",
        "model.add(tf.keras.layers.Conv2D(filters=32, kernel_size=(2, 2), padding='same', activation='relu'))\n",
        "model.add(tf.keras.layers.MaxPooling2D(pool_size=2))\n",
        "model.add(tf.keras.layers.Dropout(0.3))\n",
        "\n",
        "model.add(tf.keras.layers.Flatten())\n",
        "model.add(tf.keras.layers.Dense(256, activation='relu'))\n",
        "model.add(tf.keras.layers.Dropout(0.3))\n",
        "model.add(tf.keras.layers.Dense(128, activation='relu'))\n",
        "model.add(tf.keras.layers.Dropout(0.2))\n",
        "model.add(tf.keras.layers.Dense(10, activation='softmax'))\n",
        "\n",
        "model.compile(loss='sparse_categorical_crossentropy',optimizer='adam',metrics=['accuracy'])"
      ],
      "execution_count": 0,
      "outputs": []
    },
    {
      "cell_type": "code",
      "metadata": {
        "id": "Kxgz4tKRDLE-",
        "colab_type": "code",
        "colab": {}
      },
      "source": [
        "earlystop = EarlyStopping(monitor='val_acc', min_delta=0.0001, patience=5, \\\n",
        "                          verbose=1, mode='auto')\n",
        "callbacks_list = [earlystop]"
      ],
      "execution_count": 0,
      "outputs": []
    },
    {
      "cell_type": "code",
      "metadata": {
        "id": "8cJEi5oLDLFB",
        "colab_type": "code",
        "colab": {
          "base_uri": "https://localhost:8080/",
          "height": 721
        },
        "outputId": "806cc7d7-64c0-4e96-9758-551a45626e79"
      },
      "source": [
        "model.summary()"
      ],
      "execution_count": 39,
      "outputs": [
        {
          "output_type": "stream",
          "text": [
            "Model: \"sequential_1\"\n",
            "_________________________________________________________________\n",
            "Layer (type)                 Output Shape              Param #   \n",
            "=================================================================\n",
            "conv2d_5 (Conv2D)            (None, 28, 28, 32)        160       \n",
            "_________________________________________________________________\n",
            "conv2d_6 (Conv2D)            (None, 28, 28, 64)        32832     \n",
            "_________________________________________________________________\n",
            "batch_normalization_1 (Batch (None, 28, 28, 64)        256       \n",
            "_________________________________________________________________\n",
            "conv2d_7 (Conv2D)            (None, 28, 28, 128)       295040    \n",
            "_________________________________________________________________\n",
            "max_pooling2d_2 (MaxPooling2 (None, 14, 14, 128)       0         \n",
            "_________________________________________________________________\n",
            "dropout_4 (Dropout)          (None, 14, 14, 128)       0         \n",
            "_________________________________________________________________\n",
            "conv2d_8 (Conv2D)            (None, 14, 14, 64)        131136    \n",
            "_________________________________________________________________\n",
            "conv2d_9 (Conv2D)            (None, 14, 14, 32)        8224      \n",
            "_________________________________________________________________\n",
            "max_pooling2d_3 (MaxPooling2 (None, 7, 7, 32)          0         \n",
            "_________________________________________________________________\n",
            "dropout_5 (Dropout)          (None, 7, 7, 32)          0         \n",
            "_________________________________________________________________\n",
            "flatten_1 (Flatten)          (None, 1568)              0         \n",
            "_________________________________________________________________\n",
            "dense_3 (Dense)              (None, 256)               401664    \n",
            "_________________________________________________________________\n",
            "dropout_6 (Dropout)          (None, 256)               0         \n",
            "_________________________________________________________________\n",
            "dense_4 (Dense)              (None, 128)               32896     \n",
            "_________________________________________________________________\n",
            "dropout_7 (Dropout)          (None, 128)               0         \n",
            "_________________________________________________________________\n",
            "dense_5 (Dense)              (None, 10)                1290      \n",
            "=================================================================\n",
            "Total params: 903,498\n",
            "Trainable params: 903,370\n",
            "Non-trainable params: 128\n",
            "_________________________________________________________________\n"
          ],
          "name": "stdout"
        }
      ]
    },
    {
      "cell_type": "code",
      "metadata": {
        "id": "1s8X__ItDLFG",
        "colab_type": "code",
        "colab": {
          "base_uri": "https://localhost:8080/",
          "height": 1777
        },
        "outputId": "51e3c957-79b8-4304-d8b6-02b3208d7131"
      },
      "source": [
        "model_info=model.fit(X_train,y_train,batch_size=30,epochs=50)"
      ],
      "execution_count": 42,
      "outputs": [
        {
          "output_type": "stream",
          "text": [
            "Epoch 1/50\n",
            "60000/60000 [==============================] - 33s 542us/sample - loss: 0.1919 - acc: 0.9302\n",
            "Epoch 2/50\n",
            "60000/60000 [==============================] - 32s 539us/sample - loss: 0.1881 - acc: 0.9337\n",
            "Epoch 3/50\n",
            "60000/60000 [==============================] - 32s 531us/sample - loss: 0.1885 - acc: 0.9338\n",
            "Epoch 4/50\n",
            "60000/60000 [==============================] - 32s 538us/sample - loss: 0.1843 - acc: 0.9337\n",
            "Epoch 5/50\n",
            "60000/60000 [==============================] - 32s 534us/sample - loss: 0.1875 - acc: 0.9331\n",
            "Epoch 6/50\n",
            "60000/60000 [==============================] - 32s 539us/sample - loss: 0.1864 - acc: 0.9345\n",
            "Epoch 7/50\n",
            "60000/60000 [==============================] - 32s 538us/sample - loss: 0.1757 - acc: 0.9370\n",
            "Epoch 8/50\n",
            "60000/60000 [==============================] - 32s 539us/sample - loss: 0.1773 - acc: 0.9373\n",
            "Epoch 9/50\n",
            "60000/60000 [==============================] - 32s 538us/sample - loss: 0.1788 - acc: 0.9365\n",
            "Epoch 10/50\n",
            "60000/60000 [==============================] - 32s 540us/sample - loss: 0.1739 - acc: 0.9383\n",
            "Epoch 11/50\n",
            "60000/60000 [==============================] - 32s 538us/sample - loss: 0.1731 - acc: 0.9376\n",
            "Epoch 12/50\n",
            "60000/60000 [==============================] - 32s 539us/sample - loss: 0.1759 - acc: 0.9367\n",
            "Epoch 13/50\n",
            "60000/60000 [==============================] - 32s 538us/sample - loss: 0.1694 - acc: 0.9406\n",
            "Epoch 14/50\n",
            "60000/60000 [==============================] - 32s 539us/sample - loss: 0.1706 - acc: 0.9389\n",
            "Epoch 15/50\n",
            "60000/60000 [==============================] - 32s 538us/sample - loss: 0.1742 - acc: 0.9387\n",
            "Epoch 16/50\n",
            "60000/60000 [==============================] - 32s 538us/sample - loss: 0.1670 - acc: 0.9411\n",
            "Epoch 17/50\n",
            "60000/60000 [==============================] - 32s 539us/sample - loss: 0.1728 - acc: 0.9400\n",
            "Epoch 18/50\n",
            "60000/60000 [==============================] - 32s 539us/sample - loss: 0.1629 - acc: 0.9424\n",
            "Epoch 19/50\n",
            "60000/60000 [==============================] - 32s 538us/sample - loss: 0.1636 - acc: 0.9420\n",
            "Epoch 20/50\n",
            "60000/60000 [==============================] - 32s 541us/sample - loss: 0.1671 - acc: 0.9413\n",
            "Epoch 21/50\n",
            "60000/60000 [==============================] - 32s 539us/sample - loss: 0.1617 - acc: 0.9429\n",
            "Epoch 22/50\n",
            "60000/60000 [==============================] - 32s 539us/sample - loss: 0.1617 - acc: 0.9428\n",
            "Epoch 23/50\n",
            "60000/60000 [==============================] - 32s 538us/sample - loss: 0.1585 - acc: 0.9452\n",
            "Epoch 24/50\n",
            "60000/60000 [==============================] - 32s 539us/sample - loss: 0.1629 - acc: 0.9428\n",
            "Epoch 25/50\n",
            "60000/60000 [==============================] - 32s 537us/sample - loss: 0.1593 - acc: 0.9436\n",
            "Epoch 26/50\n",
            "60000/60000 [==============================] - 32s 538us/sample - loss: 0.1540 - acc: 0.9459\n",
            "Epoch 27/50\n",
            "60000/60000 [==============================] - 32s 538us/sample - loss: 0.1652 - acc: 0.9435\n",
            "Epoch 28/50\n",
            "60000/60000 [==============================] - 32s 537us/sample - loss: 0.1605 - acc: 0.9444\n",
            "Epoch 29/50\n",
            "60000/60000 [==============================] - 32s 540us/sample - loss: 0.1604 - acc: 0.9446\n",
            "Epoch 30/50\n",
            "60000/60000 [==============================] - 32s 537us/sample - loss: 0.1569 - acc: 0.9460\n",
            "Epoch 31/50\n",
            "60000/60000 [==============================] - 32s 538us/sample - loss: 0.1518 - acc: 0.9464\n",
            "Epoch 32/50\n",
            "60000/60000 [==============================] - 32s 538us/sample - loss: 0.1517 - acc: 0.9466\n",
            "Epoch 33/50\n",
            "60000/60000 [==============================] - 32s 537us/sample - loss: 0.1531 - acc: 0.9481\n",
            "Epoch 34/50\n",
            "60000/60000 [==============================] - 32s 537us/sample - loss: 0.1551 - acc: 0.9457\n",
            "Epoch 35/50\n",
            "60000/60000 [==============================] - 32s 536us/sample - loss: 0.1491 - acc: 0.9481\n",
            "Epoch 36/50\n",
            "60000/60000 [==============================] - 32s 537us/sample - loss: 0.1576 - acc: 0.9455\n",
            "Epoch 37/50\n",
            "60000/60000 [==============================] - 32s 538us/sample - loss: 0.1580 - acc: 0.9455\n",
            "Epoch 38/50\n",
            "60000/60000 [==============================] - 32s 536us/sample - loss: 0.1525 - acc: 0.9491\n",
            "Epoch 39/50\n",
            "60000/60000 [==============================] - 32s 538us/sample - loss: 0.1576 - acc: 0.9458\n",
            "Epoch 40/50\n",
            "60000/60000 [==============================] - 32s 536us/sample - loss: 0.1555 - acc: 0.9465\n",
            "Epoch 41/50\n",
            "60000/60000 [==============================] - 32s 537us/sample - loss: 0.1544 - acc: 0.9454\n",
            "Epoch 42/50\n",
            "60000/60000 [==============================] - 32s 538us/sample - loss: 0.1535 - acc: 0.9471\n",
            "Epoch 43/50\n",
            "60000/60000 [==============================] - 32s 536us/sample - loss: 0.1458 - acc: 0.9499\n",
            "Epoch 44/50\n",
            "60000/60000 [==============================] - 32s 536us/sample - loss: 0.1543 - acc: 0.9475\n",
            "Epoch 45/50\n",
            "60000/60000 [==============================] - 32s 537us/sample - loss: 0.1556 - acc: 0.9455\n",
            "Epoch 46/50\n",
            "60000/60000 [==============================] - 32s 536us/sample - loss: 0.1572 - acc: 0.9463\n",
            "Epoch 47/50\n",
            "60000/60000 [==============================] - 32s 536us/sample - loss: 0.1557 - acc: 0.9463\n",
            "Epoch 48/50\n",
            "60000/60000 [==============================] - 32s 536us/sample - loss: 0.1525 - acc: 0.9475\n",
            "Epoch 49/50\n",
            "60000/60000 [==============================] - 32s 539us/sample - loss: 0.1541 - acc: 0.9478\n",
            "Epoch 50/50\n",
            "60000/60000 [==============================] - 32s 537us/sample - loss: 0.1667 - acc: 0.9439\n"
          ],
          "name": "stdout"
        }
      ]
    },
    {
      "cell_type": "code",
      "metadata": {
        "id": "J49JfZpMDLFL",
        "colab_type": "code",
        "colab": {}
      },
      "source": [
        "model.save('Fahion MNIST 93.41%.h5')"
      ],
      "execution_count": 0,
      "outputs": []
    },
    {
      "cell_type": "code",
      "metadata": {
        "id": "FcbBL5uIDLFO",
        "colab_type": "code",
        "colab": {
          "base_uri": "https://localhost:8080/",
          "height": 52
        },
        "outputId": "16262881-adb7-412d-dd01-6c2ab783dc8f"
      },
      "source": [
        "test_loss, test_acc = model.evaluate(X_test,y_test)\n",
        "print('Test accuracy:', test_acc"
      ],
      "execution_count": 43,
      "outputs": [
        {
          "output_type": "stream",
          "text": [
            "10000/10000 [==============================] - 2s 182us/sample - loss: 0.2289 - acc: 0.9341\n",
            "Test accuracy: 0.9341\n"
          ],
          "name": "stdout"
        }
      ]
    },
    {
      "cell_type": "code",
      "metadata": {
        "id": "iqU9VaGxDLFR",
        "colab_type": "code",
        "colab": {}
      },
      "source": [
        "# list all data in history\n",
        "print(model_info.history.keys())\n",
        "# summarize history for accuracy\n",
        "plt.plot(model_info.history['acc'])\n",
        "plt.plot(model_info.history['val_acc'])\n",
        "plt.title('model accuracy')\n",
        "plt.ylabel('accuracy')\n",
        "plt.xlabel('epoch')\n",
        "plt.legend(['train', 'test'], loc='upper left')\n",
        "plt.show()\n",
        "# summarize history for loss\n",
        "plt.plot(model_info.history['loss'])\n",
        "plt.plot(model_info.history['val_loss'])\n",
        "plt.title('model loss')\n",
        "plt.ylabel('loss')\n",
        "plt.xlabel('epoch')\n",
        "plt.legend(['train', 'test'], loc='upper left')\n",
        "plt.show()"
      ],
      "execution_count": 0,
      "outputs": []
    }
  ]
}