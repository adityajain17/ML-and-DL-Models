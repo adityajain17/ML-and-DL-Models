{
 "cells": [
  {
   "cell_type": "code",
   "execution_count": null,
   "metadata": {},
   "outputs": [],
   "source": [
    "#Iris Data Set Attempt to Do Multi-Class Classification"
   ]
  },
  {
   "cell_type": "code",
   "execution_count": 18,
   "metadata": {},
   "outputs": [],
   "source": [
    "# Importing the libraries\n",
    "import numpy as np\n",
    "import matplotlib.pyplot as plt\n",
    "import pandas as pd\n",
    "\n",
    "# Importing the dataset\n",
    "dataset=pd.read_csv('iris.data',header=None)"
   ]
  },
  {
   "cell_type": "code",
   "execution_count": 19,
   "metadata": {},
   "outputs": [
    {
     "data": {
      "text/html": [
       "<div>\n",
       "<style scoped>\n",
       "    .dataframe tbody tr th:only-of-type {\n",
       "        vertical-align: middle;\n",
       "    }\n",
       "\n",
       "    .dataframe tbody tr th {\n",
       "        vertical-align: top;\n",
       "    }\n",
       "\n",
       "    .dataframe thead th {\n",
       "        text-align: right;\n",
       "    }\n",
       "</style>\n",
       "<table border=\"1\" class=\"dataframe\">\n",
       "  <thead>\n",
       "    <tr style=\"text-align: right;\">\n",
       "      <th></th>\n",
       "      <th>0</th>\n",
       "      <th>1</th>\n",
       "      <th>2</th>\n",
       "      <th>3</th>\n",
       "      <th>4</th>\n",
       "    </tr>\n",
       "  </thead>\n",
       "  <tbody>\n",
       "    <tr>\n",
       "      <th>0</th>\n",
       "      <td>5.1</td>\n",
       "      <td>3.5</td>\n",
       "      <td>1.4</td>\n",
       "      <td>0.2</td>\n",
       "      <td>Iris-setosa</td>\n",
       "    </tr>\n",
       "    <tr>\n",
       "      <th>1</th>\n",
       "      <td>4.9</td>\n",
       "      <td>3.0</td>\n",
       "      <td>1.4</td>\n",
       "      <td>0.2</td>\n",
       "      <td>Iris-setosa</td>\n",
       "    </tr>\n",
       "    <tr>\n",
       "      <th>2</th>\n",
       "      <td>4.7</td>\n",
       "      <td>3.2</td>\n",
       "      <td>1.3</td>\n",
       "      <td>0.2</td>\n",
       "      <td>Iris-setosa</td>\n",
       "    </tr>\n",
       "    <tr>\n",
       "      <th>3</th>\n",
       "      <td>4.6</td>\n",
       "      <td>3.1</td>\n",
       "      <td>1.5</td>\n",
       "      <td>0.2</td>\n",
       "      <td>Iris-setosa</td>\n",
       "    </tr>\n",
       "    <tr>\n",
       "      <th>4</th>\n",
       "      <td>5.0</td>\n",
       "      <td>3.6</td>\n",
       "      <td>1.4</td>\n",
       "      <td>0.2</td>\n",
       "      <td>Iris-setosa</td>\n",
       "    </tr>\n",
       "  </tbody>\n",
       "</table>\n",
       "</div>"
      ],
      "text/plain": [
       "     0    1    2    3            4\n",
       "0  5.1  3.5  1.4  0.2  Iris-setosa\n",
       "1  4.9  3.0  1.4  0.2  Iris-setosa\n",
       "2  4.7  3.2  1.3  0.2  Iris-setosa\n",
       "3  4.6  3.1  1.5  0.2  Iris-setosa\n",
       "4  5.0  3.6  1.4  0.2  Iris-setosa"
      ]
     },
     "execution_count": 19,
     "metadata": {},
     "output_type": "execute_result"
    }
   ],
   "source": [
    "dataset.head()"
   ]
  },
  {
   "cell_type": "code",
   "execution_count": 20,
   "metadata": {},
   "outputs": [
    {
     "name": "stdout",
     "output_type": "stream",
     "text": [
      "<class 'numpy.ndarray'>\n"
     ]
    }
   ],
   "source": [
    "x=dataset.iloc[:,0:4].values\n",
    "y=dataset.iloc[:,4].values\n",
    "print(type(x))"
   ]
  },
  {
   "cell_type": "code",
   "execution_count": 21,
   "metadata": {},
   "outputs": [
    {
     "name": "stdout",
     "output_type": "stream",
     "text": [
      "['Iris-setosa' 'Iris-versicolor' 'Iris-virginica']\n",
      "{}\n"
     ]
    }
   ],
   "source": [
    "#For Encoding the Data\n",
    "from sklearn.preprocessing import LabelEncoder, OneHotEncoder\n",
    "labelencoder_y = LabelEncoder()\n",
    "y= labelencoder_y.fit_transform(y)\n",
    "print(labelencoder_y.classes_)\n",
    "print(labelencoder_y.get_params())"
   ]
  },
  {
   "cell_type": "code",
   "execution_count": 22,
   "metadata": {},
   "outputs": [
    {
     "data": {
      "text/plain": [
       "<matplotlib.axes._subplots.AxesSubplot at 0x2a6d0c46128>"
      ]
     },
     "execution_count": 22,
     "metadata": {},
     "output_type": "execute_result"
    },
    {
     "data": {
      "image/png": "[encoded data removed]",
      "text/plain": [
       "<Figure size 432x288 with 1 Axes>"
      ]
     },
     "metadata": {
      "needs_background": "light"
     },
     "output_type": "display_data"
    }
   ],
   "source": [
    "y_data=pd.DataFrame({'categories':y})\n",
    "y_data['categories'].value_counts().plot.bar()"
   ]
  },
  {
   "cell_type": "code",
   "execution_count": 23,
   "metadata": {},
   "outputs": [],
   "source": [
    "#Data Pre-Processing\n",
    "from sklearn.model_selection import train_test_split\n",
    "X_train, X_test, y_train, y_test = train_test_split(x, y, test_size = 0.30, random_state = 0)\n",
    "\n",
    "# Feature Scaling\n",
    "from sklearn.preprocessing import StandardScaler\n",
    "sc = StandardScaler()\n",
    "X_train = sc.fit_transform(X_train)\n",
    "X_test = sc.transform(X_test)"
   ]
  },
  {
   "cell_type": "code",
   "execution_count": 24,
   "metadata": {},
   "outputs": [
    {
     "data": {
      "text/plain": [
       "<matplotlib.axes._subplots.AxesSubplot at 0x2a6d0ca2390>"
      ]
     },
     "execution_count": 24,
     "metadata": {},
     "output_type": "execute_result"
    },
    {
     "data": {
      "image/png": "[encoded data removed]",
      "text/plain": [
       "<Figure size 432x288 with 1 Axes>"
      ]
     },
     "metadata": {
      "needs_background": "light"
     },
     "output_type": "display_data"
    }
   ],
   "source": [
    "y_train_data=pd.DataFrame({'categories':y_train})\n",
    "y_train_data['categories'].value_counts().plot.bar()"
   ]
  },
  {
   "cell_type": "code",
   "execution_count": 25,
   "metadata": {},
   "outputs": [
    {
     "data": {
      "text/plain": [
       "<matplotlib.axes._subplots.AxesSubplot at 0x2a6d0c3a710>"
      ]
     },
     "execution_count": 25,
     "metadata": {},
     "output_type": "execute_result"
    },
    {
     "data": {
      "image/png": "[encoded data removed]",
      "text/plain": [
       "<Figure size 432x288 with 1 Axes>"
      ]
     },
     "metadata": {
      "needs_background": "light"
     },
     "output_type": "display_data"
    }
   ],
   "source": [
    "y_test_data=pd.DataFrame({'categories':y_test})\n",
    "y_test_data['categories'].value_counts().plot.bar()"
   ]
  },
  {
   "cell_type": "code",
   "execution_count": 6,
   "metadata": {},
   "outputs": [
    {
     "name": "stdout",
     "output_type": "stream",
     "text": [
      "[2 1 0 2 0 2 0 1 1 1 2 1 1 1 1 0 1 1 0 0 2 1 0 0 2 0 0 1 1 0 2 1 0 2 2 1 0\n",
      " 2 1 1 2 0 2 0 0]\n",
      "Confusion Matrix [[16  0  0]\n",
      " [ 0 17  1]\n",
      " [ 0  0 11]]\n",
      "Accuracy Score 97.77777777777777\n",
      "Classification Report \n",
      "               precision    recall  f1-score   support\n",
      "\n",
      "           0       1.00      1.00      1.00        16\n",
      "           1       1.00      0.94      0.97        18\n",
      "           2       0.92      1.00      0.96        11\n",
      "\n",
      "   micro avg       0.98      0.98      0.98        45\n",
      "   macro avg       0.97      0.98      0.98        45\n",
      "weighted avg       0.98      0.98      0.98        45\n",
      "\n"
     ]
    }
   ],
   "source": [
    "#Logistic Regression\n",
    "# Fitting Logistic Regression to the Training set\n",
    "from sklearn.linear_model import LogisticRegression\n",
    "classifier = LogisticRegression(random_state = 0,solver='newton-cg',multi_class='multinomial')\n",
    "classifier.fit(X_train, y_train)\n",
    "\n",
    "# Predicting the Test set results\n",
    "y_pred = classifier.predict(X_test)\n",
    "print(y_pred)\n",
    "# Making the Confusion Matrix\n",
    "from sklearn.metrics import confusion_matrix,accuracy_score\n",
    "cm = confusion_matrix(y_test, y_pred)\n",
    "print('Confusion Matrix',cm)\n",
    "print('Accuracy Score',accuracy_score(y_test, y_pred)*100)\n",
    "from sklearn.metrics import classification_report,f1_score\n",
    "print('Classification Report \\n',classification_report(y_test, y_pred))"
   ]
  },
  {
   "cell_type": "code",
   "execution_count": 7,
   "metadata": {},
   "outputs": [
    {
     "name": "stdout",
     "output_type": "stream",
     "text": [
      "Confusion Matrix [[16  0  0]\n",
      " [ 0 17  1]\n",
      " [ 0  0 11]]\n",
      "Accuracy is  97.77777777777777\n",
      "              precision    recall  f1-score   support\n",
      "\n",
      "           0       1.00      1.00      1.00        16\n",
      "           1       1.00      0.94      0.97        18\n",
      "           2       0.92      1.00      0.96        11\n",
      "\n",
      "   micro avg       0.98      0.98      0.98        45\n",
      "   macro avg       0.97      0.98      0.98        45\n",
      "weighted avg       0.98      0.98      0.98        45\n",
      "\n"
     ]
    }
   ],
   "source": [
    "#KNN Classifier\n",
    "# Fitting K-NN to the Training set\n",
    "from sklearn.neighbors import KNeighborsClassifier\n",
    "classifier = KNeighborsClassifier(n_neighbors = 3, metric = 'minkowski', p = 2)\n",
    "classifier.fit(X_train, y_train)\n",
    "\n",
    "# Predicting the Test set results\n",
    "y_pred = classifier.predict(X_test)\n",
    "\n",
    "# Making the Confusion Matrix\n",
    "from sklearn.metrics import confusion_matrix,accuracy_score,classification_report\n",
    "cm = confusion_matrix(y_test, y_pred)\n",
    "print('Confusion Matrix',cm)\n",
    "accuracy = accuracy_score(y_test, y_pred)\n",
    "print('Accuracy is ',accuracy*100)\n",
    "print(classification_report(y_test, y_pred))"
   ]
  },
  {
   "cell_type": "code",
   "execution_count": null,
   "metadata": {},
   "outputs": [],
   "source": [
    "X_train.shape"
   ]
  },
  {
   "cell_type": "code",
   "execution_count": 26,
   "metadata": {},
   "outputs": [
    {
     "name": "stderr",
     "output_type": "stream",
     "text": [
      "Using TensorFlow backend.\n"
     ]
    },
    {
     "name": "stdout",
     "output_type": "stream",
     "text": [
      "WARNING:tensorflow:From E:\\Anaconda\\lib\\site-packages\\tensorflow\\python\\framework\\op_def_library.py:263: colocate_with (from tensorflow.python.framework.ops) is deprecated and will be removed in a future version.\n",
      "Instructions for updating:\n",
      "Colocations handled automatically by placer.\n"
     ]
    },
    {
     "name": "stderr",
     "output_type": "stream",
     "text": [
      "E:\\Anaconda\\lib\\site-packages\\ipykernel_launcher.py:10: UserWarning: Update your `Dense` call to the Keras 2 API: `Dense(kernel_initializer=\"uniform\", activation=\"softmax\", units=3)`\n",
      "  # Remove the CWD from sys.path while we load stuff.\n"
     ]
    },
    {
     "name": "stdout",
     "output_type": "stream",
     "text": [
      "WARNING:tensorflow:From E:\\Anaconda\\lib\\site-packages\\tensorflow\\python\\ops\\math_ops.py:3066: to_int32 (from tensorflow.python.ops.math_ops) is deprecated and will be removed in a future version.\n",
      "Instructions for updating:\n",
      "Use tf.cast instead.\n"
     ]
    },
    {
     "name": "stderr",
     "output_type": "stream",
     "text": [
      "E:\\Anaconda\\lib\\site-packages\\ipykernel_launcher.py:13: UserWarning: The `nb_epoch` argument in `fit` has been renamed `epochs`.\n",
      "  del sys.path[0]\n"
     ]
    },
    {
     "name": "stdout",
     "output_type": "stream",
     "text": [
      "Epoch 1/100\n",
      "105/105 [==============================] - 0s 5ms/step - loss: 1.0910 - acc: 0.6000\n",
      "Epoch 2/100\n",
      "105/105 [==============================] - 0s 152us/step - loss: 1.0517 - acc: 0.7619\n",
      "Epoch 3/100\n",
      "105/105 [==============================] - 0s 228us/step - loss: 0.9526 - acc: 0.7238\n",
      "Epoch 4/100\n",
      "105/105 [==============================] - 0s 152us/step - loss: 0.7509 - acc: 0.7238\n",
      "Epoch 5/100\n",
      "105/105 [==============================] - 0s 266us/step - loss: 0.5628 - acc: 0.7143\n",
      "Epoch 6/100\n",
      "105/105 [==============================] - 0s 304us/step - loss: 0.4614 - acc: 0.7143\n",
      "Epoch 7/100\n",
      "105/105 [==============================] - 0s 304us/step - loss: 0.4096 - acc: 0.7810\n",
      "Epoch 8/100\n",
      "105/105 [==============================] - 0s 261us/step - loss: 0.3698 - acc: 0.8476\n",
      "Epoch 9/100\n",
      "105/105 [==============================] - 0s 220us/step - loss: 0.3318 - acc: 0.8667\n",
      "Epoch 10/100\n",
      "105/105 [==============================] - 0s 304us/step - loss: 0.3103 - acc: 0.8667\n",
      "Epoch 11/100\n",
      "105/105 [==============================] - ETA: 0s - loss: 0.2287 - acc: 0.900 - 0s 228us/step - loss: 0.2808 - acc: 0.8667\n",
      "Epoch 12/100\n",
      "105/105 [==============================] - 0s 228us/step - loss: 0.2629 - acc: 0.8762\n",
      "Epoch 13/100\n",
      "105/105 [==============================] - 0s 249us/step - loss: 0.2449 - acc: 0.8952\n",
      "Epoch 14/100\n",
      "105/105 [==============================] - 0s 342us/step - loss: 0.2265 - acc: 0.8857\n",
      "Epoch 15/100\n",
      "105/105 [==============================] - 0s 266us/step - loss: 0.2062 - acc: 0.8952\n",
      "Epoch 16/100\n",
      "105/105 [==============================] - 0s 266us/step - loss: 0.1842 - acc: 0.9238\n",
      "Epoch 17/100\n",
      "105/105 [==============================] - 0s 304us/step - loss: 0.1660 - acc: 0.9429\n",
      "Epoch 18/100\n",
      "105/105 [==============================] - 0s 190us/step - loss: 0.1417 - acc: 0.9524\n",
      "Epoch 19/100\n",
      "105/105 [==============================] - 0s 248us/step - loss: 0.1219 - acc: 0.9524\n",
      "Epoch 20/100\n",
      "105/105 [==============================] - 0s 230us/step - loss: 0.1104 - acc: 0.9619\n",
      "Epoch 21/100\n",
      "105/105 [==============================] - 0s 266us/step - loss: 0.0988 - acc: 0.9714\n",
      "Epoch 22/100\n",
      "105/105 [==============================] - 0s 190us/step - loss: 0.0906 - acc: 0.9714\n",
      "Epoch 23/100\n",
      "105/105 [==============================] - 0s 228us/step - loss: 0.0800 - acc: 0.9714\n",
      "Epoch 24/100\n",
      "105/105 [==============================] - 0s 228us/step - loss: 0.0779 - acc: 0.9714\n",
      "Epoch 25/100\n",
      "105/105 [==============================] - 0s 190us/step - loss: 0.0690 - acc: 0.9810\n",
      "Epoch 26/100\n",
      "105/105 [==============================] - ETA: 0s - loss: 0.0172 - acc: 1.000 - 0s 228us/step - loss: 0.0795 - acc: 0.9619\n",
      "Epoch 27/100\n",
      "105/105 [==============================] - 0s 207us/step - loss: 0.0632 - acc: 0.9714\n",
      "Epoch 28/100\n",
      "105/105 [==============================] - 0s 190us/step - loss: 0.0642 - acc: 0.9810\n",
      "Epoch 29/100\n",
      "105/105 [==============================] - 0s 190us/step - loss: 0.0603 - acc: 0.9714\n",
      "Epoch 30/100\n",
      "105/105 [==============================] - 0s 228us/step - loss: 0.0562 - acc: 0.9714\n",
      "Epoch 31/100\n",
      "105/105 [==============================] - 0s 304us/step - loss: 0.0551 - acc: 0.9810\n",
      "Epoch 32/100\n",
      "105/105 [==============================] - 0s 190us/step - loss: 0.0543 - acc: 0.9810\n",
      "Epoch 33/100\n",
      "105/105 [==============================] - 0s 152us/step - loss: 0.0512 - acc: 0.9714\n",
      "Epoch 34/100\n",
      "105/105 [==============================] - 0s 152us/step - loss: 0.0513 - acc: 0.9714\n",
      "Epoch 35/100\n",
      "105/105 [==============================] - 0s 228us/step - loss: 0.0499 - acc: 0.9714\n",
      "Epoch 36/100\n",
      "105/105 [==============================] - 0s 190us/step - loss: 0.0503 - acc: 0.9714\n",
      "Epoch 37/100\n",
      "105/105 [==============================] - 0s 152us/step - loss: 0.0455 - acc: 0.9810\n",
      "Epoch 38/100\n",
      "105/105 [==============================] - 0s 130us/step - loss: 0.0452 - acc: 0.9905\n",
      "Epoch 39/100\n",
      "105/105 [==============================] - 0s 152us/step - loss: 0.0446 - acc: 0.9905\n",
      "Epoch 40/100\n",
      "105/105 [==============================] - 0s 152us/step - loss: 0.0456 - acc: 0.9905\n",
      "Epoch 41/100\n",
      "105/105 [==============================] - 0s 190us/step - loss: 0.0435 - acc: 0.9810\n",
      "Epoch 42/100\n",
      "105/105 [==============================] - 0s 228us/step - loss: 0.0430 - acc: 0.9905\n",
      "Epoch 43/100\n",
      "105/105 [==============================] - 0s 342us/step - loss: 0.0436 - acc: 0.9714\n",
      "Epoch 44/100\n",
      "105/105 [==============================] - 0s 228us/step - loss: 0.0441 - acc: 0.9810\n",
      "Epoch 45/100\n",
      "105/105 [==============================] - 0s 190us/step - loss: 0.0383 - acc: 0.9905\n",
      "Epoch 46/100\n",
      "105/105 [==============================] - 0s 152us/step - loss: 0.0372 - acc: 0.9905\n",
      "Epoch 47/100\n",
      "105/105 [==============================] - ETA: 0s - loss: 0.0411 - acc: 1.000 - 0s 190us/step - loss: 0.0388 - acc: 0.9905\n",
      "Epoch 48/100\n",
      "105/105 [==============================] - ETA: 0s - loss: 0.0961 - acc: 0.900 - 0s 173us/step - loss: 0.0400 - acc: 0.9810\n",
      "Epoch 49/100\n",
      "105/105 [==============================] - 0s 228us/step - loss: 0.0371 - acc: 0.9905\n",
      "Epoch 50/100\n",
      "105/105 [==============================] - 0s 228us/step - loss: 0.0346 - acc: 0.9905\n",
      "Epoch 51/100\n",
      "105/105 [==============================] - 0s 190us/step - loss: 0.0401 - acc: 0.9810\n",
      "Epoch 52/100\n",
      "105/105 [==============================] - 0s 266us/step - loss: 0.0392 - acc: 0.9905\n",
      "Epoch 53/100\n",
      "105/105 [==============================] - 0s 228us/step - loss: 0.0321 - acc: 1.0000\n",
      "Epoch 54/100\n",
      "105/105 [==============================] - 0s 266us/step - loss: 0.0353 - acc: 0.9810\n",
      "Epoch 55/100\n",
      "105/105 [==============================] - 0s 266us/step - loss: 0.0331 - acc: 0.9905\n",
      "Epoch 56/100\n",
      "105/105 [==============================] - 0s 228us/step - loss: 0.0322 - acc: 0.9905\n",
      "Epoch 57/100\n",
      "105/105 [==============================] - 0s 304us/step - loss: 0.0310 - acc: 0.9905\n",
      "Epoch 58/100\n",
      "105/105 [==============================] - 0s 228us/step - loss: 0.0310 - acc: 0.9905\n",
      "Epoch 59/100\n",
      "105/105 [==============================] - 0s 190us/step - loss: 0.0305 - acc: 0.9905\n",
      "Epoch 60/100\n",
      "105/105 [==============================] - 0s 228us/step - loss: 0.0293 - acc: 0.9905\n",
      "Epoch 61/100\n",
      "105/105 [==============================] - 0s 266us/step - loss: 0.0299 - acc: 1.0000\n",
      "Epoch 62/100\n",
      "105/105 [==============================] - 0s 190us/step - loss: 0.0288 - acc: 0.9905\n",
      "Epoch 63/100\n",
      "105/105 [==============================] - 0s 152us/step - loss: 0.0315 - acc: 0.9905\n",
      "Epoch 64/100\n",
      "105/105 [==============================] - 0s 190us/step - loss: 0.0282 - acc: 0.9905\n",
      "Epoch 65/100\n",
      "105/105 [==============================] - 0s 228us/step - loss: 0.0270 - acc: 1.0000\n",
      "Epoch 66/100\n",
      "105/105 [==============================] - 0s 190us/step - loss: 0.0265 - acc: 1.0000\n",
      "Epoch 67/100\n",
      "105/105 [==============================] - 0s 228us/step - loss: 0.0295 - acc: 0.9905\n",
      "Epoch 68/100\n",
      "105/105 [==============================] - 0s 190us/step - loss: 0.0296 - acc: 1.0000\n",
      "Epoch 69/100\n",
      "105/105 [==============================] - 0s 201us/step - loss: 0.0353 - acc: 0.9810\n",
      "Epoch 70/100\n",
      "105/105 [==============================] - 0s 190us/step - loss: 0.0412 - acc: 0.9714\n",
      "Epoch 71/100\n",
      "105/105 [==============================] - 0s 190us/step - loss: 0.0270 - acc: 0.9905\n",
      "Epoch 72/100\n",
      "105/105 [==============================] - 0s 152us/step - loss: 0.0296 - acc: 0.9810\n",
      "Epoch 73/100\n",
      "105/105 [==============================] - 0s 190us/step - loss: 0.0254 - acc: 1.0000\n",
      "Epoch 74/100\n",
      "105/105 [==============================] - 0s 190us/step - loss: 0.0316 - acc: 0.9810\n",
      "Epoch 75/100\n",
      "105/105 [==============================] - 0s 152us/step - loss: 0.0297 - acc: 0.9905\n",
      "Epoch 76/100\n",
      "105/105 [==============================] - 0s 136us/step - loss: 0.0269 - acc: 1.0000\n",
      "Epoch 77/100\n",
      "105/105 [==============================] - 0s 190us/step - loss: 0.0227 - acc: 1.0000\n",
      "Epoch 78/100\n",
      "105/105 [==============================] - 0s 152us/step - loss: 0.0240 - acc: 1.0000\n",
      "Epoch 79/100\n",
      "105/105 [==============================] - 0s 228us/step - loss: 0.0238 - acc: 1.0000\n",
      "Epoch 80/100\n",
      "105/105 [==============================] - 0s 152us/step - loss: 0.0206 - acc: 1.0000\n",
      "Epoch 81/100\n",
      "105/105 [==============================] - 0s 199us/step - loss: 0.0247 - acc: 0.9905\n",
      "Epoch 82/100\n"
     ]
    },
    {
     "name": "stdout",
     "output_type": "stream",
     "text": [
      "105/105 [==============================] - 0s 114us/step - loss: 0.0210 - acc: 1.0000\n",
      "Epoch 83/100\n",
      "105/105 [==============================] - 0s 190us/step - loss: 0.0260 - acc: 0.9810\n",
      "Epoch 84/100\n",
      "105/105 [==============================] - 0s 152us/step - loss: 0.0197 - acc: 1.0000\n",
      "Epoch 85/100\n",
      "105/105 [==============================] - 0s 190us/step - loss: 0.0238 - acc: 1.0000\n",
      "Epoch 86/100\n",
      "105/105 [==============================] - 0s 190us/step - loss: 0.0192 - acc: 1.0000\n",
      "Epoch 87/100\n",
      "105/105 [==============================] - 0s 228us/step - loss: 0.0207 - acc: 1.0000\n",
      "Epoch 88/100\n",
      "105/105 [==============================] - 0s 190us/step - loss: 0.0187 - acc: 1.0000\n",
      "Epoch 89/100\n",
      "105/105 [==============================] - 0s 228us/step - loss: 0.0213 - acc: 1.0000\n",
      "Epoch 90/100\n",
      "105/105 [==============================] - 0s 190us/step - loss: 0.0196 - acc: 1.0000\n",
      "Epoch 91/100\n",
      "105/105 [==============================] - 0s 190us/step - loss: 0.0183 - acc: 1.0000\n",
      "Epoch 92/100\n",
      "105/105 [==============================] - 0s 190us/step - loss: 0.0195 - acc: 1.0000\n",
      "Epoch 93/100\n",
      "105/105 [==============================] - 0s 222us/step - loss: 0.0213 - acc: 1.0000\n",
      "Epoch 94/100\n",
      "105/105 [==============================] - 0s 190us/step - loss: 0.0172 - acc: 1.0000\n",
      "Epoch 95/100\n",
      "105/105 [==============================] - 0s 190us/step - loss: 0.0171 - acc: 1.0000\n",
      "Epoch 96/100\n",
      "105/105 [==============================] - 0s 152us/step - loss: 0.0225 - acc: 1.0000\n",
      "Epoch 97/100\n",
      "105/105 [==============================] - 0s 152us/step - loss: 0.0173 - acc: 1.0000\n",
      "Epoch 98/100\n",
      "105/105 [==============================] - 0s 190us/step - loss: 0.0199 - acc: 1.0000\n",
      "Epoch 99/100\n",
      "105/105 [==============================] - 0s 190us/step - loss: 0.0178 - acc: 1.0000\n",
      "Epoch 100/100\n",
      "105/105 [==============================] - 0s 190us/step - loss: 0.0167 - acc: 1.0000\n"
     ]
    },
    {
     "data": {
      "text/plain": [
       "<keras.callbacks.History at 0x2a6d40c28d0>"
      ]
     },
     "execution_count": 26,
     "metadata": {},
     "output_type": "execute_result"
    }
   ],
   "source": [
    "#Aritifical Neural Network (ANN)\n",
    "import keras\n",
    "from keras.models import Sequential\n",
    "from keras.layers import Dense\n",
    "\n",
    "# Initialising the ANN\n",
    "model= Sequential()\n",
    "model.add(Dense(128, kernel_initializer='uniform',activation = 'relu', input_dim = 4))\n",
    "model.add(Dense(64, kernel_initializer='uniform',activation = 'relu'))\n",
    "model.add(Dense(output_dim = 3, kernel_initializer = 'uniform', activation = 'softmax'))\n",
    "model.compile(optimizer = 'adam', loss = 'sparse_categorical_crossentropy', metrics = ['accuracy'])\n",
    "# Fitting the ANN to the Training set\n",
    "model.fit(X_train, y_train, batch_size =10,nb_epoch = 100)\n"
   ]
  },
  {
   "cell_type": "code",
   "execution_count": 27,
   "metadata": {},
   "outputs": [
    {
     "name": "stdout",
     "output_type": "stream",
     "text": [
      "[2 1 0 2 0 2 0 1 1 1 2 1 1 1 1 0 1 1 0 0 2 1 0 0 2 0 0 1 1 0 2 1 0 2 2 1 0\n",
      " 2 1 1 2 0 2 0 0]\n"
     ]
    }
   ],
   "source": [
    "y_pred = model.predict_classes(X_test)\n",
    "print(y_pred)"
   ]
  },
  {
   "cell_type": "code",
   "execution_count": 29,
   "metadata": {},
   "outputs": [
    {
     "name": "stdout",
     "output_type": "stream",
     "text": [
      "Confusion Matrix [[16  0  0]\n",
      " [ 0 17  1]\n",
      " [ 0  0 11]]\n",
      "Accuracy Score 97.77777777777777\n",
      "Classification Report \n",
      "               precision    recall  f1-score   support\n",
      "\n",
      "           0       1.00      1.00      1.00        16\n",
      "           1       1.00      0.94      0.97        18\n",
      "           2       0.92      1.00      0.96        11\n",
      "\n",
      "   micro avg       0.98      0.98      0.98        45\n",
      "   macro avg       0.97      0.98      0.98        45\n",
      "weighted avg       0.98      0.98      0.98        45\n",
      "\n"
     ]
    }
   ],
   "source": [
    "# Making the Confusion Matrix\n",
    "from sklearn.metrics import confusion_matrix,accuracy_score\n",
    "cm = confusion_matrix(y_test, y_pred)\n",
    "print('Confusion Matrix',cm)\n",
    "print('Accuracy Score',accuracy_score(y_test, y_pred)*100)\n",
    "from sklearn.metrics import classification_report,f1_score\n",
    "print('Classification Report \\n',classification_report(y_test, y_pred))"
   ]
  },
  {
   "cell_type": "code",
   "execution_count": 16,
   "metadata": {},
   "outputs": [],
   "source": [
    "model.save('Iris-Ann 97.7 Accuracy.h5')"
   ]
  },
  {
   "cell_type": "code",
   "execution_count": 67,
   "metadata": {},
   "outputs": [
    {
     "name": "stdout",
     "output_type": "stream",
     "text": [
      "<class 'numpy.ndarray'>\n",
      "['Iris-setosa' 'Iris-versicolor' 'Iris-virginica']\n",
      "{}\n",
      "[0 0 0 0 0 0 0 0 0 0 0 0 0 0 0 0 0 0 0 0 0 0 0 0 0 0 0 0 0 0 0 0 0 0 0 0 0\n",
      " 0 0 0 0 0 0 0 0 0 0 0 0 0 1 1 1 1 1 1 1 1 1 1 1 1 1 1 1 1 1 1 1 1 1 1 1 1\n",
      " 1 1 1 1 1 1 1 1 1 1 1 1 1 1 1 1 1 1 1 1 1 1 1 1 1 1 2 2 2 2 2 2 2 2 2 2 2\n",
      " 2 2 2 2 2 2 2 2 2 2 2 2 2 2 2 2 2 2 2 2 2 2 2 2 2 2 2 2 2 2 2 2 2 2 2 2 2\n",
      " 2 2]\n"
     ]
    }
   ],
   "source": [
    "#Now we will try ANN aftter One hot encoding it\n",
    "x=dataset.iloc[:,0:4].values\n",
    "y=dataset.iloc[:,4].values\n",
    "print(type(x))\n",
    "#For Encoding the Data\n",
    "from sklearn.preprocessing import LabelEncoder, OneHotEncoder\n",
    "labelencoder_y = LabelEncoder()\n",
    "y= labelencoder_y.fit_transform(y)\n",
    "print(labelencoder_y.classes_)\n",
    "print(labelencoder_y.get_params())\n",
    "print(y)"
   ]
  },
  {
   "cell_type": "code",
   "execution_count": 68,
   "metadata": {},
   "outputs": [
    {
     "name": "stdout",
     "output_type": "stream",
     "text": [
      "(150, 1)\n"
     ]
    }
   ],
   "source": [
    "#One-Hot Encoding y variable\n",
    "y=y.reshape(150,1)\n",
    "print(y.shape)\n",
    "onehotencoder = OneHotEncoder(categories='auto')\n",
    "y= onehotencoder.fit_transform(y).toarray()\n",
    "\n",
    "from sklearn.model_selection import train_test_split\n",
    "X_train, X_test, y_train, y_test = train_test_split(x, y, test_size = 0.30, random_state = 0)\n",
    "\n",
    "# Feature Scaling\n",
    "from sklearn.preprocessing import StandardScaler\n",
    "sc = StandardScaler()\n",
    "X_train = sc.fit_transform(X_train)\n",
    "X_test = sc.transform(X_test)"
   ]
  },
  {
   "cell_type": "code",
   "execution_count": 69,
   "metadata": {},
   "outputs": [
    {
     "name": "stderr",
     "output_type": "stream",
     "text": [
      "E:\\Anaconda\\lib\\site-packages\\ipykernel_launcher.py:9: UserWarning: Update your `Dense` call to the Keras 2 API: `Dense(kernel_initializer=\"uniform\", activation=\"softmax\", units=3)`\n",
      "  if __name__ == '__main__':\n",
      "E:\\Anaconda\\lib\\site-packages\\ipykernel_launcher.py:12: UserWarning: The `nb_epoch` argument in `fit` has been renamed `epochs`.\n",
      "  if sys.path[0] == '':\n"
     ]
    },
    {
     "name": "stdout",
     "output_type": "stream",
     "text": [
      "Epoch 1/100\n",
      "105/105 [==============================] - 1s 7ms/step - loss: 1.0936 - acc: 0.5619\n",
      "Epoch 2/100\n",
      "105/105 [==============================] - 0s 161us/step - loss: 1.0778 - acc: 0.7429\n",
      "Epoch 3/100\n",
      "105/105 [==============================] - 0s 304us/step - loss: 1.0538 - acc: 0.7619\n",
      "Epoch 4/100\n",
      "105/105 [==============================] - 0s 285us/step - loss: 1.0103 - acc: 0.7619\n",
      "Epoch 5/100\n",
      "105/105 [==============================] - 0s 465us/step - loss: 0.9541 - acc: 0.7524\n",
      "Epoch 6/100\n",
      "105/105 [==============================] - 0s 275us/step - loss: 0.8867 - acc: 0.7524\n",
      "Epoch 7/100\n",
      "105/105 [==============================] - 0s 332us/step - loss: 0.8077 - acc: 0.7333\n",
      "Epoch 8/100\n",
      "105/105 [==============================] - 0s 256us/step - loss: 0.7345 - acc: 0.7238\n",
      "Epoch 9/100\n",
      "105/105 [==============================] - 0s 256us/step - loss: 0.6671 - acc: 0.7143\n",
      "Epoch 10/100\n",
      "105/105 [==============================] - 0s 276us/step - loss: 0.6131 - acc: 0.7143\n",
      "Epoch 11/100\n",
      "105/105 [==============================] - 0s 247us/step - loss: 0.5691 - acc: 0.7238\n",
      "Epoch 12/100\n",
      "105/105 [==============================] - 0s 218us/step - loss: 0.5352 - acc: 0.7238\n",
      "Epoch 13/100\n",
      "105/105 [==============================] - 0s 275us/step - loss: 0.5109 - acc: 0.7238\n",
      "Epoch 14/100\n",
      "105/105 [==============================] - 0s 294us/step - loss: 0.4883 - acc: 0.7333\n",
      "Epoch 15/100\n",
      "105/105 [==============================] - 0s 285us/step - loss: 0.4700 - acc: 0.7524\n",
      "Epoch 16/100\n",
      "105/105 [==============================] - 0s 266us/step - loss: 0.4538 - acc: 0.7810\n",
      "Epoch 17/100\n",
      "105/105 [==============================] - 0s 190us/step - loss: 0.4390 - acc: 0.8000\n",
      "Epoch 18/100\n",
      "105/105 [==============================] - 0s 285us/step - loss: 0.4257 - acc: 0.8190\n",
      "Epoch 19/100\n",
      "105/105 [==============================] - 0s 180us/step - loss: 0.4117 - acc: 0.8381\n",
      "Epoch 20/100\n",
      "105/105 [==============================] - 0s 285us/step - loss: 0.4002 - acc: 0.8476\n",
      "Epoch 21/100\n",
      "105/105 [==============================] - 0s 199us/step - loss: 0.3878 - acc: 0.8476\n",
      "Epoch 22/100\n",
      "105/105 [==============================] - 0s 180us/step - loss: 0.3772 - acc: 0.8571\n",
      "Epoch 23/100\n",
      "105/105 [==============================] - 0s 313us/step - loss: 0.3661 - acc: 0.8667\n",
      "Epoch 24/100\n",
      "105/105 [==============================] - 0s 237us/step - loss: 0.3567 - acc: 0.8667\n",
      "Epoch 25/100\n",
      "105/105 [==============================] - 0s 256us/step - loss: 0.3462 - acc: 0.8667\n",
      "Epoch 26/100\n",
      "105/105 [==============================] - 0s 180us/step - loss: 0.3369 - acc: 0.8667\n",
      "Epoch 27/100\n",
      "105/105 [==============================] - 0s 171us/step - loss: 0.3273 - acc: 0.8667\n",
      "Epoch 28/100\n",
      "105/105 [==============================] - 0s 180us/step - loss: 0.3199 - acc: 0.8667\n",
      "Epoch 29/100\n",
      "105/105 [==============================] - 0s 237us/step - loss: 0.3120 - acc: 0.8667\n",
      "Epoch 30/100\n",
      "105/105 [==============================] - 0s 209us/step - loss: 0.3049 - acc: 0.8667\n",
      "Epoch 31/100\n",
      "105/105 [==============================] - 0s 275us/step - loss: 0.2968 - acc: 0.8762\n",
      "Epoch 32/100\n",
      "105/105 [==============================] - 0s 304us/step - loss: 0.2908 - acc: 0.8762\n",
      "Epoch 33/100\n",
      "105/105 [==============================] - 0s 266us/step - loss: 0.2830 - acc: 0.8762\n",
      "Epoch 34/100\n",
      "105/105 [==============================] - 0s 209us/step - loss: 0.2764 - acc: 0.8762\n",
      "Epoch 35/100\n",
      "105/105 [==============================] - 0s 256us/step - loss: 0.2706 - acc: 0.8762\n",
      "Epoch 36/100\n",
      "105/105 [==============================] - 0s 237us/step - loss: 0.2647 - acc: 0.8857\n",
      "Epoch 37/100\n",
      "105/105 [==============================] - 0s 247us/step - loss: 0.2584 - acc: 0.8857\n",
      "Epoch 38/100\n",
      "105/105 [==============================] - 0s 209us/step - loss: 0.2534 - acc: 0.8857\n",
      "Epoch 39/100\n",
      "105/105 [==============================] - 0s 266us/step - loss: 0.2462 - acc: 0.9048\n",
      "Epoch 40/100\n",
      "105/105 [==============================] - 0s 218us/step - loss: 0.2400 - acc: 0.9048\n",
      "Epoch 41/100\n",
      "105/105 [==============================] - 0s 218us/step - loss: 0.2342 - acc: 0.9143\n",
      "Epoch 42/100\n",
      "105/105 [==============================] - 0s 209us/step - loss: 0.2284 - acc: 0.9143\n",
      "Epoch 43/100\n",
      "105/105 [==============================] - 0s 342us/step - loss: 0.2234 - acc: 0.9238\n",
      "Epoch 44/100\n",
      "105/105 [==============================] - 0s 218us/step - loss: 0.2173 - acc: 0.9238\n",
      "Epoch 45/100\n",
      "105/105 [==============================] - 0s 190us/step - loss: 0.2119 - acc: 0.9238\n",
      "Epoch 46/100\n",
      "105/105 [==============================] - 0s 161us/step - loss: 0.2070 - acc: 0.9238\n",
      "Epoch 47/100\n",
      "105/105 [==============================] - 0s 199us/step - loss: 0.2014 - acc: 0.9238\n",
      "Epoch 48/100\n",
      "105/105 [==============================] - 0s 180us/step - loss: 0.1966 - acc: 0.9238\n",
      "Epoch 49/100\n",
      "105/105 [==============================] - 0s 228us/step - loss: 0.1912 - acc: 0.9238\n",
      "Epoch 50/100\n",
      "105/105 [==============================] - 0s 247us/step - loss: 0.1893 - acc: 0.9238\n",
      "Epoch 51/100\n",
      "105/105 [==============================] - 0s 399us/step - loss: 0.1824 - acc: 0.9333\n",
      "Epoch 52/100\n",
      "105/105 [==============================] - 0s 247us/step - loss: 0.1783 - acc: 0.9333\n",
      "Epoch 53/100\n",
      "105/105 [==============================] - 0s 285us/step - loss: 0.1740 - acc: 0.9333\n",
      "Epoch 54/100\n",
      "105/105 [==============================] - 0s 218us/step - loss: 0.1695 - acc: 0.9429\n",
      "Epoch 55/100\n",
      "105/105 [==============================] - 0s 180us/step - loss: 0.1660 - acc: 0.9429\n",
      "Epoch 56/100\n",
      "105/105 [==============================] - 0s 161us/step - loss: 0.1619 - acc: 0.9429\n",
      "Epoch 57/100\n",
      "105/105 [==============================] - 0s 199us/step - loss: 0.1578 - acc: 0.9429\n",
      "Epoch 58/100\n",
      "105/105 [==============================] - 0s 142us/step - loss: 0.1545 - acc: 0.9524\n",
      "Epoch 59/100\n",
      "105/105 [==============================] - 0s 161us/step - loss: 0.1512 - acc: 0.9429\n",
      "Epoch 60/100\n",
      "105/105 [==============================] - 0s 218us/step - loss: 0.1483 - acc: 0.9524\n",
      "Epoch 61/100\n",
      "105/105 [==============================] - 0s 199us/step - loss: 0.1447 - acc: 0.9619\n",
      "Epoch 62/100\n",
      "105/105 [==============================] - 0s 161us/step - loss: 0.1423 - acc: 0.9810\n",
      "Epoch 63/100\n",
      "105/105 [==============================] - 0s 152us/step - loss: 0.1382 - acc: 0.9810\n",
      "Epoch 64/100\n",
      "105/105 [==============================] - 0s 162us/step - loss: 0.1351 - acc: 0.9714\n",
      "Epoch 65/100\n",
      "105/105 [==============================] - 0s 161us/step - loss: 0.1325 - acc: 0.9714\n",
      "Epoch 66/100\n",
      "105/105 [==============================] - 0s 199us/step - loss: 0.1314 - acc: 0.9619\n",
      "Epoch 67/100\n",
      "105/105 [==============================] - 0s 180us/step - loss: 0.1275 - acc: 0.9619\n",
      "Epoch 68/100\n",
      "105/105 [==============================] - ETA: 0s - loss: 0.1027 - acc: 1.000 - 0s 161us/step - loss: 0.1252 - acc: 0.9714\n",
      "Epoch 69/100\n",
      "105/105 [==============================] - 0s 171us/step - loss: 0.1228 - acc: 0.9714\n",
      "Epoch 70/100\n",
      "105/105 [==============================] - 0s 180us/step - loss: 0.1206 - acc: 0.9714\n",
      "Epoch 71/100\n",
      "105/105 [==============================] - 0s 199us/step - loss: 0.1189 - acc: 0.9714\n",
      "Epoch 72/100\n",
      "105/105 [==============================] - 0s 266us/step - loss: 0.1169 - acc: 0.9714\n",
      "Epoch 73/100\n",
      "105/105 [==============================] - 0s 199us/step - loss: 0.1166 - acc: 0.9714\n",
      "Epoch 74/100\n",
      "105/105 [==============================] - 0s 285us/step - loss: 0.1125 - acc: 0.9714\n",
      "Epoch 75/100\n",
      "105/105 [==============================] - 0s 161us/step - loss: 0.1109 - acc: 0.9714\n",
      "Epoch 76/100\n",
      "105/105 [==============================] - 0s 152us/step - loss: 0.1093 - acc: 0.9714\n",
      "Epoch 77/100\n",
      "105/105 [==============================] - 0s 161us/step - loss: 0.1078 - acc: 0.9714\n",
      "Epoch 78/100\n",
      "105/105 [==============================] - 0s 190us/step - loss: 0.1066 - acc: 0.9714\n",
      "Epoch 79/100\n",
      "105/105 [==============================] - 0s 237us/step - loss: 0.1044 - acc: 0.9714\n",
      "Epoch 80/100\n",
      "105/105 [==============================] - 0s 171us/step - loss: 0.1035 - acc: 0.9714\n",
      "Epoch 81/100\n",
      "105/105 [==============================] - 0s 161us/step - loss: 0.1022 - acc: 0.9714\n",
      "Epoch 82/100\n",
      "105/105 [==============================] - 0s 209us/step - loss: 0.1003 - acc: 0.9714\n",
      "Epoch 83/100\n",
      "105/105 [==============================] - 0s 256us/step - loss: 0.0990 - acc: 0.9714\n",
      "Epoch 84/100\n",
      "105/105 [==============================] - 0s 152us/step - loss: 0.0976 - acc: 0.9714\n",
      "Epoch 85/100\n",
      "105/105 [==============================] - 0s 142us/step - loss: 0.0968 - acc: 0.9714\n",
      "Epoch 86/100\n",
      "105/105 [==============================] - 0s 142us/step - loss: 0.0953 - acc: 0.9714\n",
      "Epoch 87/100\n",
      "105/105 [==============================] - 0s 152us/step - loss: 0.0942 - acc: 0.9714\n",
      "Epoch 88/100\n",
      "105/105 [==============================] - 0s 180us/step - loss: 0.0934 - acc: 0.9714\n",
      "Epoch 89/100\n",
      "105/105 [==============================] - 0s 294us/step - loss: 0.0922 - acc: 0.9714\n",
      "Epoch 90/100\n",
      "105/105 [==============================] - 0s 218us/step - loss: 0.0907 - acc: 0.9714\n",
      "Epoch 91/100\n",
      "105/105 [==============================] - 0s 218us/step - loss: 0.0898 - acc: 0.9714\n",
      "Epoch 92/100\n",
      "105/105 [==============================] - 0s 285us/step - loss: 0.0890 - acc: 0.9714\n",
      "Epoch 93/100\n",
      "105/105 [==============================] - 0s 199us/step - loss: 0.0881 - acc: 0.9714\n",
      "Epoch 94/100\n",
      "105/105 [==============================] - 0s 142us/step - loss: 0.0871 - acc: 0.9714\n",
      "Epoch 95/100\n",
      "105/105 [==============================] - 0s 256us/step - loss: 0.0865 - acc: 0.9714\n",
      "Epoch 96/100\n",
      "105/105 [==============================] - 0s 161us/step - loss: 0.0862 - acc: 0.9714\n",
      "Epoch 97/100\n",
      "105/105 [==============================] - 0s 237us/step - loss: 0.0846 - acc: 0.9714\n",
      "Epoch 98/100\n",
      "105/105 [==============================] - 0s 228us/step - loss: 0.0846 - acc: 0.9714\n",
      "Epoch 99/100\n",
      "105/105 [==============================] - 0s 218us/step - loss: 0.0831 - acc: 0.9714\n",
      "Epoch 100/100\n",
      "105/105 [==============================] - 0s 218us/step - loss: 0.0821 - acc: 0.9714\n"
     ]
    },
    {
     "data": {
      "text/plain": [
       "<keras.callbacks.History at 0x13e1a9a48d0>"
      ]
     },
     "execution_count": 69,
     "metadata": {},
     "output_type": "execute_result"
    }
   ],
   "source": [
    "#Aritifical Neural Network (ANN)\n",
    "import keras\n",
    "from keras.models import Sequential\n",
    "from keras.layers import Dense\n",
    "\n",
    "# Initialising the ANN\n",
    "model= Sequential()\n",
    "model.add(Dense(32, kernel_initializer='uniform',activation = 'relu', input_dim = 4))\n",
    "model.add(Dense(output_dim = 3, kernel_initializer = 'uniform', activation = 'softmax'))\n",
    "model.compile(optimizer = 'adam', loss = 'categorical_crossentropy', metrics = ['accuracy'])\n",
    "# Fitting the ANN to the Training set\n",
    "model.fit(X_train, y_train, batch_size =10,nb_epoch = 100,verbose=1)"
   ]
  },
  {
   "cell_type": "code",
   "execution_count": 70,
   "metadata": {},
   "outputs": [
    {
     "name": "stdout",
     "output_type": "stream",
     "text": [
      "[2 1 0 2 0 2 0 1 1 1 2 1 1 1 1 0 1 1 0 0 2 1 0 0 2 0 0 1 1 0 2 1 0 2 2 1 0\n",
      " 2 1 1 2 0 2 0 0]\n",
      "[[1.1381799e-05 7.9482282e-03 9.9204034e-01]\n",
      " [4.4889218e-04 9.9147636e-01 8.0746636e-03]\n",
      " [9.9996269e-01 3.7336376e-05 3.7828418e-08]\n",
      " [1.5769598e-05 3.1107929e-02 9.6887636e-01]\n",
      " [9.9925584e-01 7.4358261e-04 5.4048542e-07]\n",
      " [1.0847480e-05 3.2911508e-03 9.9669802e-01]\n",
      " [9.9959153e-01 4.0816751e-04 4.1164114e-07]\n",
      " [5.0397352e-03 8.4861875e-01 1.4634147e-01]\n",
      " [1.2944156e-03 8.6446184e-01 1.3424376e-01]\n",
      " [4.5756083e-03 9.7172350e-01 2.3700872e-02]\n",
      " [2.6376278e-04 3.7111822e-01 6.2861800e-01]\n",
      " [1.1718893e-02 8.8170552e-01 1.0657563e-01]\n",
      " [2.9179861e-03 9.4781047e-01 4.9271461e-02]\n",
      " [1.7217094e-03 8.0034947e-01 1.9792877e-01]\n",
      " [3.7674885e-03 8.4855211e-01 1.4768031e-01]\n",
      " [9.9774325e-01 2.2557997e-03 9.3684156e-07]\n",
      " [4.2991303e-03 8.0116683e-01 1.9453397e-01]\n",
      " [2.5706198e-03 9.4468904e-01 5.2740391e-02]\n",
      " [9.9620759e-01 3.7896337e-03 2.7133754e-06]\n",
      " [9.9981862e-01 1.8114909e-04 2.4225969e-07]\n",
      " [1.4182289e-04 4.3247107e-02 9.5661110e-01]\n",
      " [8.9561027e-03 7.7799582e-01 2.1304798e-01]\n",
      " [9.9926180e-01 7.3741144e-04 8.6484658e-07]\n",
      " [9.9825114e-01 1.7473772e-03 1.4083759e-06]\n",
      " [5.0913048e-04 2.2437130e-01 7.7511960e-01]\n",
      " [9.9995673e-01 4.3325857e-05 5.5114384e-08]\n",
      " [9.9969554e-01 3.0377350e-04 7.2855590e-07]\n",
      " [5.1880637e-03 9.5975995e-01 3.5052028e-02]\n",
      " [6.3685332e-03 9.8582155e-01 7.8099072e-03]\n",
      " [9.9872452e-01 1.2737142e-03 1.7617431e-06]\n",
      " [4.6955587e-04 1.1174788e-01 8.8778257e-01]\n",
      " [1.0335466e-02 7.5401086e-01 2.3565376e-01]\n",
      " [9.9923897e-01 7.6057279e-04 4.8037049e-07]\n",
      " [1.2155289e-03 2.2731790e-01 7.7146655e-01]\n",
      " [6.5120780e-06 7.7390098e-03 9.9225450e-01]\n",
      " [6.7791510e-03 9.1821820e-01 7.5002596e-02]\n",
      " [9.9900812e-01 9.9117088e-04 7.0150031e-07]\n",
      " [4.8511231e-04 3.1463036e-01 6.8488449e-01]\n",
      " [9.5161796e-03 8.8317502e-01 1.0730881e-01]\n",
      " [2.6555101e-03 9.7761130e-01 1.9733239e-02]\n",
      " [3.5621208e-05 2.0503759e-02 9.7946060e-01]\n",
      " [9.9928576e-01 7.1369938e-04 5.4090384e-07]\n",
      " [4.8182559e-05 1.7037932e-02 9.8291391e-01]\n",
      " [9.9887460e-01 1.1221757e-03 3.2073879e-06]\n",
      " [9.9954152e-01 4.5823742e-04 2.8740979e-07]]\n",
      "(45, 3)\n"
     ]
    }
   ],
   "source": [
    "y_pred = model.predict_classes(X_test)\n",
    "print(y_pred)\n",
    "y_pred = model.predict(X_test)\n",
    "print(y_pred)\n",
    "print(y_pred.shape)\n",
    "#You can't use sklearn.metrics when y_pred is more than 1 column"
   ]
  },
  {
   "cell_type": "code",
   "execution_count": null,
   "metadata": {},
   "outputs": [],
   "source": []
  }
 ],
 "metadata": {
  "kernelspec": {
   "display_name": "Python 3",
   "language": "python",
   "name": "python3"
  },
  "language_info": {
   "codemirror_mode": {
    "name": "ipython",
    "version": 3
   },
   "file_extension": ".py",
   "mimetype": "text/x-python",
   "name": "python",
   "nbconvert_exporter": "python",
   "pygments_lexer": "ipython3",
   "version": "3.7.0"
  }
 },
 "nbformat": 4,
 "nbformat_minor": 2
}
